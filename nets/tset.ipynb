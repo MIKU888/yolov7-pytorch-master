{
 "cells": [
  {
   "cell_type": "code",
   "outputs": [
    {
     "name": "stdout",
     "output_type": "stream",
     "text": [
      "torch.Size([1, 3, 640, 640])\n"
     ]
    }
   ],
   "source": [
    "import torch\n",
    "import torch.nn as nn\n",
    "\n",
    "class DecoderBlock(nn.Module):\n",
    "    def __init__(self, in_channels, out_channels):\n",
    "        super(DecoderBlock, self).__init__()\n",
    "        self.decoder = nn.Sequential(\n",
    "            nn.ConvTranspose2d(in_channels, out_channels, kernel_size=4, stride=2, padding=1),\n",
    "            nn.ReLU(inplace=True)\n",
    "        )\n",
    "\n",
    "    def forward(self, x):\n",
    "        return self.decoder(x)\n",
    "\n",
    "class Decoder(nn.Module):\n",
    "    def __init__(self):\n",
    "        super(Decoder, self).__init__()\n",
    "        # 解码器部分\n",
    "        self.up1 = DecoderBlock(1024, 512)  # 输入大小20x20，输出大小40x40\n",
    "        self.up2 = DecoderBlock(512, 256)   # 输入大小40x40，输出大小80x80\n",
    "        self.up3 = DecoderBlock(256, 128)   # 输入大小80x80，输出大小160x160\n",
    "        self.up4 = DecoderBlock(128, 64)    # 输入大小160x160，输出大小320x320\n",
    "        self.up5 = nn.ConvTranspose2d(64, 3, kernel_size=4, stride=2, padding=1)  # 上采样至640x640，通道数为3\n",
    "\n",
    "    def forward(self, x):\n",
    "        x = self.up1(x)\n",
    "        x = self.up2(x)\n",
    "        x = self.up3(x)\n",
    "        x = self.up4(x)\n",
    "        x = self.up5(x)\n",
    "        return x\n",
    "\n",
    "# 创建实例\n",
    "decoder_model = Decoder()\n",
    "\n",
    "# 输入张量\n",
    "input_tensor = torch.randn(1, 1024, 20, 20)  # 假设为批大小为1的张量\n",
    "\n",
    "# 前向传播\n",
    "output_tensor = decoder_model(input_tensor)\n",
    "\n",
    "print(output_tensor.shape)  # 输出大小为 torch.Size([1, 3, 640, 640])\n"
   ],
   "metadata": {
    "collapsed": false,
    "ExecuteTime": {
     "end_time": "2024-05-10T09:04:28.247351100Z",
     "start_time": "2024-05-10T09:04:28.002276300Z"
    }
   },
   "id": "e15093a9306d73a4",
   "execution_count": 20
  },
  {
   "cell_type": "code",
   "outputs": [
    {
     "name": "stdout",
     "output_type": "stream",
     "text": [
      "x.shape: torch.Size([1, 3, 640, 640])\n",
      "经过backbone： torch.Size([1, 1024, 20, 20])\n",
      "out1.shape: torch.Size([1, 3, 640, 640])\n"
     ]
    }
   ],
   "source": [
    "import torch\n",
    "import torch.nn as nn\n",
    "\n",
    "from nets.backbone import Backbone, Multi_Concat_Block, Conv, SiLU, Transition_Block, autopad\n",
    "\n",
    "class DecoderBlock(nn.Module):\n",
    "    def __init__(self, in_channels, out_channels):\n",
    "        super(DecoderBlock, self).__init__()\n",
    "        self.decoder = nn.Sequential(\n",
    "            nn.ConvTranspose2d(in_channels, out_channels, kernel_size=4, stride=2, padding=1),\n",
    "            nn.ReLU(inplace=True)\n",
    "        )\n",
    "\n",
    "    def forward(self, x):\n",
    "        return self.decoder(x)\n",
    "class YoloUnet(nn.Module):\n",
    "    def __init__(self):\n",
    "        super(YoloUnet, self).__init__()\n",
    "        self.backbone = Backbone(32, 32, 4, phi='l')\n",
    "        self.up1 = DecoderBlock(1024, 512)  # 输入大小20x20，输出大小40x40\n",
    "        self.up2 = DecoderBlock(512, 256)  # 输入大小40x40，输出大小80x80\n",
    "        self.up3 = DecoderBlock(256, 128)  # 输入大小80x80，输出大小160x160\n",
    "        self.up4 = DecoderBlock(128, 64)  # 输入大小160x160，输出大小320x320\n",
    "        self.up5 = nn.ConvTranspose2d(64, 3, kernel_size=4, stride=2, padding=1)  # 上采样至640x640，通道数为3\n",
    "\n",
    "\n",
    "    def forward(self, x):\n",
    "        feat1, feat2, feat3 = self.backbone(x)\n",
    "        # 80\t80\t512\n",
    "        # 40\t40\t1024\n",
    "        # 20    20\t1024\n",
    "        print(\"经过backbone：\",feat3.shape)\n",
    "        x=feat3;\n",
    "        x = self.up1(x)\n",
    "        x = self.up2(x)\n",
    "        x = self.up3(x)\n",
    "        x = self.up4(x)\n",
    "        x = self.up5(x)\n",
    "        out = x\n",
    "        return out\n",
    "\n",
    "\n",
    "decoder_model = YoloUnet()\n",
    "x = torch.randn(1, 3, 640, 640)\n",
    "print(\"x.shape:\", x.shape)\n",
    "out1 = YoloUnet()(x)\n",
    "print(\"out1.shape:\", out1.shape)"
   ],
   "metadata": {
    "collapsed": false,
    "ExecuteTime": {
     "end_time": "2024-05-10T09:12:15.701269200Z",
     "start_time": "2024-05-10T09:12:14.259098500Z"
    }
   },
   "id": "df1c4311bd7a4f44",
   "execution_count": 21
  },
  {
   "cell_type": "code",
   "outputs": [
    {
     "name": "stdout",
     "output_type": "stream",
     "text": [
      "torch.Size([3, 640, 640, 3])\n",
      "torch.Size([3, 640, 640, 3])\n"
     ]
    }
   ],
   "source": [
    "import torch\n",
    "import torch.nn as nn\n",
    "def getMask(x,maskRatio):\n",
    "    tempx = torch.torch.flatten(x,start_dim=1,end_dim=-1)     #变成[batch,640*640*3]\n",
    "    b,l = tempx.shape\n",
    "    noise = torch.randn(b,l,device=x.device)\n",
    "    ids_sort = torch.argsort(noise,dim=1)\n",
    "    ids_restore = torch.argsort(ids_sort,dim=1)\n",
    "    mask = torch.zeros(b,l).to(x.device)\n",
    "    len_keep = l -int(l*maskRatio)\n",
    "    mask[:,:len_keep]=1\n",
    "    mask = torch.gather(mask,dim=1,index=ids_restore)\n",
    "    # maskedX = torch.mul(tempx,mask).unsqueeze(dim=1)\n",
    "    return mask\n",
    "x = torch.randn(3,640,640,3)\n",
    "print(x.shape)\n",
    "mask = getMask(x,0.3)\n",
    "mask=mask.reshape(3,640,640,-1)\n",
    "print(mask.shape)    #[batch,640*640*3]"
   ],
   "metadata": {
    "collapsed": false,
    "ExecuteTime": {
     "end_time": "2024-05-11T06:48:47.925419500Z",
     "start_time": "2024-05-11T06:48:46.788717100Z"
    }
   },
   "id": "a6b3282455506687",
   "execution_count": 4
  },
  {
   "cell_type": "code",
   "outputs": [],
   "source": [],
   "metadata": {
    "collapsed": false
   },
   "id": "e36ccce8d85ba721"
  }
 ],
 "metadata": {
  "kernelspec": {
   "display_name": "Python 3",
   "language": "python",
   "name": "python3"
  },
  "language_info": {
   "codemirror_mode": {
    "name": "ipython",
    "version": 2
   },
   "file_extension": ".py",
   "mimetype": "text/x-python",
   "name": "python",
   "nbconvert_exporter": "python",
   "pygments_lexer": "ipython2",
   "version": "2.7.6"
  }
 },
 "nbformat": 4,
 "nbformat_minor": 5
}
